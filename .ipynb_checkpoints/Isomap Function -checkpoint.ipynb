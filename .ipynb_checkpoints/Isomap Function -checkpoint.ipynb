{
 "cells": [
  {
   "cell_type": "code",
   "execution_count": 1,
   "id": "c5b99eb2",
   "metadata": {},
   "outputs": [
    {
     "name": "stdout",
     "output_type": "stream",
     "text": [
      "Hello World\n"
     ]
    }
   ],
   "source": [
    "# This is the code for the written out version of the Isomap algorithm\n",
    "\n",
    "print(\"Hello World\")"
   ]
  },
  {
   "cell_type": "code",
   "execution_count": 2,
   "id": "1b39d29b",
   "metadata": {},
   "outputs": [],
   "source": [
    "# For the most part, I will admit the mathematical details. For actual details\n",
    "# please see the paper\n",
    "\n",
    "# So, we know that Isomap will require a matrix D s.t.\n",
    "# D is equal to D= N x N matrix, where the entries are the distances and N is the total\n",
    "# number of data point\n",
    "\n",
    "# so, Isomap can be written as a function Isomap(D,Neighbourhood,NSize,Parameter)"
   ]
  },
  {
   "cell_type": "code",
   "execution_count": null,
   "id": "42ffdaf3",
   "metadata": {},
   "outputs": [],
   "source": [
    "# First, we need to compute the Euclidean Distance matrix\n",
    "# we can do so by knowing Euclidean distance is simply magnitude between two vectors A & B\n",
    "# These vectors have to be of the same dimensionality in order to work"
   ]
  },
  {
   "cell_type": "code",
   "execution_count": 3,
   "id": "120b4c54",
   "metadata": {},
   "outputs": [
    {
     "ename": "SyntaxError",
     "evalue": "invalid syntax (3984428417.py, line 8)",
     "output_type": "error",
     "traceback": [
      "\u001b[1;36m  Input \u001b[1;32mIn [3]\u001b[1;36m\u001b[0m\n\u001b[1;33m    function d=distance(a,b,df):\u001b[0m\n\u001b[1;37m             ^\u001b[0m\n\u001b[1;31mSyntaxError\u001b[0m\u001b[1;31m:\u001b[0m invalid syntax\n"
     ]
    }
   ],
   "source": [
    "# We should have a matrix of Euclidean distances.\n",
    "# Let's say that E=dist(A,B)\n",
    "# s.t. A and B are both of the same dimension, and should both be written as (D,N).\n",
    "# The only contigency i am writing for this code is that they must be same dimension,\n",
    "# however it's important to note that if this code were to be reproducible, \n",
    "# it would need to control for some other arguments, such as imaginaries\n",
    "\n",
    "function d = distance(a,b,df):\n",
    "    \n",
    "if (size(a,1) == 1)\n",
    "  a = [a; zeros(1,size(a,2))]; \n",
    "  b = [b; zeros(1,size(b,2))]; \n",
    "end\n",
    "\n",
    "aa=sum(a.*a); bb=sum(b.*b); ab=a'*b; \n",
    "d = sqrt(repmat(aa',[1 size(bb,2)]) + repmat(bb,[size(aa,2) 1]) - 2*ab);\n",
    "\n",
    "if (df==1)\n",
    "  d = d.*(1-eye(size(d)));                \n",
    "end "
   ]
  }
 ],
 "metadata": {
  "kernelspec": {
   "display_name": "Python 3 (ipykernel)",
   "language": "python",
   "name": "python3"
  },
  "language_info": {
   "codemirror_mode": {
    "name": "ipython",
    "version": 3
   },
   "file_extension": ".py",
   "mimetype": "text/x-python",
   "name": "python",
   "nbconvert_exporter": "python",
   "pygments_lexer": "ipython3",
   "version": "3.9.5"
  }
 },
 "nbformat": 4,
 "nbformat_minor": 5
}
