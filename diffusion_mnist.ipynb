{
  "nbformat": 4,
  "nbformat_minor": 0,
  "metadata": {
    "colab": {
      "name": "diffusion_mnist.ipynb",
      "provenance": []
    },
    "kernelspec": {
      "name": "python3",
      "display_name": "Python 3"
    },
    "language_info": {
      "name": "python"
    }
  },
  "cells": [
    {
      "cell_type": "code",
      "source": [
        "import numpy as np                   # advanced math library\n",
        "import matplotlib.pyplot as plt      # MATLAB like plotting routines\n",
        "import random                        # for generating random numbers\n",
        "from sklearn.neighbors import KNeighborsClassifier\n",
        "from keras.datasets import mnist     # MNIST dataset is included in Keras\n",
        "\n",
        "# from pydiffmap import diffusion_map as dm"
      ],
      "metadata": {
        "id": "PoxO84Djfr2K"
      },
      "execution_count": null,
      "outputs": []
    },
    {
      "cell_type": "code",
      "source": [
        "# The MNIST data is split between 60,000 28 x 28 pixel training images and 10,000 28 x 28 pixel images\n",
        "(X_train, y_train), (X_test, y_test) = mnist.load_data()"
      ],
      "metadata": {
        "id": "x4pi5dnuftAK"
      },
      "execution_count": null,
      "outputs": []
    },
    {
      "cell_type": "code",
      "source": [
        "from numpy.random.mtrand import sample\n",
        "sample_train = np.random.choice(np.arange(0,X_train.shape[0]), 8000)\n",
        "sample_test = np.random.choice(np.arange(0,X_test.shape[0]), 8000)\n",
        "Xtrain = X_train[sample_train].reshape(-1, 784) \n",
        "ytrain = y_train[sample_train]\n",
        "\n",
        "Xtest = X_test[sample_test].reshape(-1, 784) \n",
        "ytest = y_test[sample_test]"
      ],
      "metadata": {
        "id": "T-Mjrlo_KBMe"
      },
      "execution_count": null,
      "outputs": []
    },
    {
      "cell_type": "code",
      "source": [
        "knn = KNeighborsClassifier(n_neighbors=5)\n",
        "knn.fit(Xtrain, ytrain)\n",
        "result = np.zeros((Xtest.shape[0],1))\n",
        "result[ytest!=knn.predict(Xtest)] = 1"
      ],
      "metadata": {
        "id": "-IJofnXNonRU"
      },
      "execution_count": null,
      "outputs": []
    },
    {
      "cell_type": "code",
      "source": [
        "print(result.sum()/ytest.shape[0])"
      ],
      "metadata": {
        "id": "bJnfeCWdNyfo"
      },
      "execution_count": null,
      "outputs": []
    },
    {
      "cell_type": "code",
      "source": [
        "pip install pydiffmap"
      ],
      "metadata": {
        "id": "q0rcYd8jq3dj"
      },
      "execution_count": null,
      "outputs": []
    },
    {
      "cell_type": "code",
      "source": [
        "# initialize Diffusion map object.\n",
        "from pydiffmap import diffusion_map as dm\n",
        "neighbor_params = {'n_jobs': -1, 'algorithm': 'ball_tree'}\n",
        "\n",
        "mydmap = dm.DiffusionMap.from_sklearn(n_evecs=121, k=8, epsilon='bgh', alpha=1, neighbor_params=neighbor_params)\n",
        "mydmap.fit(np.vstack((Xtrain, Xtest)))\n",
        "dmap_train = mydmap.transform(Xtrain)\n",
        "dmap_test = mydmap.transform(Xtest)"
      ],
      "metadata": {
        "id": "ARMvjw4JNduR"
      },
      "execution_count": null,
      "outputs": []
    },
    {
      "cell_type": "code",
      "source": [
        "knn.fit(dmap_train, ytrain)\n",
        "prediction = knn.predict(dmap_test)\n",
        "result = np.zeros((ytest.shape[0],1))\n",
        "result[prediction != ytest] = 1"
      ],
      "metadata": {
        "id": "0YTwsBZ6rG9O"
      },
      "execution_count": null,
      "outputs": []
    },
    {
      "cell_type": "code",
      "source": [
        "print(result.sum()/ytest.shape[0])"
      ],
      "metadata": {
        "id": "XM2v5R9yOWZx"
      },
      "execution_count": null,
      "outputs": []
    },
    {
      "cell_type": "code",
      "source": [
        "# Xtrain[0]\n",
        "plt.imshow(dmap_train[13].reshape((11,-1)))\n",
        "plt.figure()\n",
        "plt.imshow(Xtrain[13].reshape((28,-1)))"
      ],
      "metadata": {
        "id": "SxveKkF6vR7d"
      },
      "execution_count": null,
      "outputs": []
    },
    {
      "cell_type": "code",
      "source": [
        "for i in range(5):\n",
        "  plt.subplot(4,5,i+1)\n",
        "  idx = np.where(ytrain== i)[0][0]\n",
        "  # print(idx)\n",
        "  plt.imshow(Xtrain[idx].reshape((28,-1)))\n",
        "\n",
        "  plt.subplot(4,5,i+1+5)\n",
        "  plt.imshow(dmap_train[idx].reshape((11,-1)))\n",
        "idx = np.where(ytrain==5)[0][0]\n",
        "for i in range(5,10):\n",
        "  plt.subplot(4,5,i+1+5)\n",
        "  idx = np.where(ytrain==i)[0][0]\n",
        "  plt.imshow(Xtrain[idx].reshape((28,-1)))\n",
        "\n",
        "  plt.subplot(4,5,i+1+5+5)\n",
        "  plt.imshow(dmap_train[idx].reshape((11,-1)))\n",
        "plt.show()"
      ],
      "metadata": {
        "id": "1ZU9PdyC3R0Q"
      },
      "execution_count": null,
      "outputs": []
    }
  ]
}