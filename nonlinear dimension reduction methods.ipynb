{
 "cells": [
  {
   "cell_type": "code",
   "execution_count": 1,
   "id": "edac027f",
   "metadata": {
    "scrolled": true
   },
   "outputs": [],
   "source": [
    "# This is code for the development of an algorithm for Isomaps and Local Linear Embedding"
   ]
  },
  {
   "cell_type": "code",
   "execution_count": 2,
   "id": "6d4fe7ba",
   "metadata": {
    "scrolled": true
   },
   "outputs": [
    {
     "name": "stdout",
     "output_type": "stream",
     "text": [
      "Hello World\n"
     ]
    }
   ],
   "source": [
    "print(\"Hello World\")"
   ]
  },
  {
   "cell_type": "code",
   "execution_count": 3,
   "id": "527b1795",
   "metadata": {
    "scrolled": true
   },
   "outputs": [],
   "source": [
    "# What is an Isomap? We can learn from this link: https://towardsdatascience.com/what-is-isomap-6e4c1d706b54\n",
    "# or this paper: http://syllabus.cs.manchester.ac.uk/pgt/2020/COMP61021/reference/supervised-isomap.pdf"
   ]
  },
  {
   "cell_type": "code",
   "execution_count": 4,
   "id": "e539f328",
   "metadata": {
    "scrolled": true
   },
   "outputs": [],
   "source": [
    "# What components do we need to run an Isomap function?\n",
    "# The paper informs us we need \n",
    "# 1: Construct a Neighbourhood graph and set the edge lengths equal to a distance metric d(x_i,x_j)\n",
    "# 2: Compute shortest graph s.t. \\text{d_{G}(x_i,x_j)=d(x_i,x_j) \\iff x_i,x_j are linked}\n",
    "# so, the matrix of final values $D_G=\\{d_G(x_i,x_j)\\}$ contains the shortest path distances between all points\n",
    "# 3: Construct d-dimensional embedding: Let \\lambda_p be p^{th} eigenvalue of matrix \\tau(DG) where \\tau(D)=-\\frac{HSH}{2}\n",
    "# the only free parameter in this entire algortihm is actually \\epsilon, oder \"K\" for KNN\n"
   ]
  },
  {
   "cell_type": "code",
   "execution_count": 5,
   "id": "aa623cff",
   "metadata": {
    "scrolled": true
   },
   "outputs": [],
   "source": [
    "# So, let's begin with the construction of a function for Isomap! Let's name it... Isomap()!\n",
    "def Isomap(datamatrix,number_n_components,KNN_components):\n",
    "    datamatrix = distance_mat(datamatrix, KNN_components)\n",
    "    from sklearn.utils.graph import graph_shortest_path\n",
    "    graph = graph_shortest_path(data, directed=False)\n",
    "    graph = -0.5 * (graph ** 2)\n",
    "    return mds(graph, n_components)"
   ]
  },
  {
   "cell_type": "code",
   "execution_count": 6,
   "id": "10eda887",
   "metadata": {
    "scrolled": true
   },
   "outputs": [],
   "source": [
    "# Now, we need to create a distance matrix. This will take in a datamatrix X, and we will specify the free variable K=5\n",
    "def distance_matrix(X, n_neighbors=5):\n",
    "    def distance(a, b):\n",
    "        return np.sqrt(sum((a - b)**2))\n",
    "\n",
    "# The above code is easy to read, as it follows from definition of distance function in topology and Euclidian l^2 norm\n",
    "# So, we need to implement this code as a full distance matrix, s.t. for all points in the dataset we have an entire matrix\n",
    "# This is often a big matrix\n",
    "    totaldistances = np.array([[dist(point1, point2) for point2 in X] for point1 in X])\n",
    "    neighborpoints = np.zeros_like(totaldistances)\n",
    "    sort_distances = np.argsort(totaldistances, axis=1)[:, 1:n_neighbors+1]\n",
    "    for k,i in enumerate(sort_totaldistances):\n",
    "        neighborpoints[k,i] = totaldistances[k,i]\n",
    "    return neighborpoints, sort_totaldistances"
   ]
  }
 ],
 "metadata": {
  "kernelspec": {
   "display_name": "Python 3 (ipykernel)",
   "language": "python",
   "name": "python3"
  },
  "language_info": {
   "codemirror_mode": {
    "name": "ipython",
    "version": 3
   },
   "file_extension": ".py",
   "mimetype": "text/x-python",
   "name": "python",
   "nbconvert_exporter": "python",
   "pygments_lexer": "ipython3",
   "version": "3.9.5"
  }
 },
 "nbformat": 4,
 "nbformat_minor": 5
}
